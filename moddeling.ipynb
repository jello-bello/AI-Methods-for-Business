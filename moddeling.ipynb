{
 "cells": [
  {
   "cell_type": "code",
   "execution_count": 8,
   "metadata": {},
   "outputs": [],
   "source": [
    "import pandas as pd\n",
    "import numpy as np\n",
    "from sklearn.preprocessing import OneHotEncoder, StandardScaler\n",
    "from sklearn.model_selection import PredefinedSplit, GridSearchCV\n",
    "from sklearn.model_selection import KFold\n",
    "from sklearn.neighbors import KNeighborsClassifier\n",
    "from sklearn.ensemble import RandomForestClassifier\n",
    "from sklearn.metrics import f1_score, recall_score, precision_score, precision_recall_curve\n",
    "import matplotlib.pyplot as plt\n",
    "from plotnine import *\n",
    "import os\n",
    "import datetime\n",
    "import pickle\n",
    "import json\n",
    "from IPython.core.interactiveshell import InteractiveShell\n",
    "InteractiveShell.ast_node_interactivity = \"all\" # to make jupyter print all outputs, not just the last one\n",
    "from IPython.core.display import HTML # to pretty print pandas df and be able to copy them over (e.g. to ppt slides)\n",
    "pd.options.display.float_format = '{:.4f}'.format\n",
    "df = pd.read_csv('car_prices_clean.csv', index_col=False)\n",
    "df['id'] = range(1, len(df) + 1)\n",
    "\n"
   ]
  },
  {
   "cell_type": "markdown",
   "metadata": {},
   "source": [
    "## 2. Feature engineering"
   ]
  },
  {
   "cell_type": "code",
   "execution_count": 9,
   "metadata": {},
   "outputs": [],
   "source": [
    "# constants\n",
    "USE_STORED_SVC_HYPERTUNED_MODELS = True\n",
    "USE_STORED_SVC_SKLEARNED_HYPERTUNED_MODELS = True\n",
    "USE_STORED_NN_HYPERTUNED_MODELS = True"
   ]
  },
  {
   "cell_type": "code",
   "execution_count": 10,
   "metadata": {},
   "outputs": [
    {
     "data": {
      "text/html": [
       "<div>\n",
       "<style scoped>\n",
       "    .dataframe tbody tr th:only-of-type {\n",
       "        vertical-align: middle;\n",
       "    }\n",
       "\n",
       "    .dataframe tbody tr th {\n",
       "        vertical-align: top;\n",
       "    }\n",
       "\n",
       "    .dataframe thead th {\n",
       "        text-align: right;\n",
       "    }\n",
       "</style>\n",
       "<table border=\"1\" class=\"dataframe\">\n",
       "  <thead>\n",
       "    <tr style=\"text-align: right;\">\n",
       "      <th></th>\n",
       "      <th>year</th>\n",
       "      <th>make</th>\n",
       "      <th>transmission</th>\n",
       "      <th>state</th>\n",
       "      <th>condition</th>\n",
       "      <th>odometer</th>\n",
       "      <th>color</th>\n",
       "      <th>interior</th>\n",
       "      <th>mmr</th>\n",
       "      <th>sellingprice</th>\n",
       "      <th>id</th>\n",
       "    </tr>\n",
       "  </thead>\n",
       "  <tbody>\n",
       "    <tr>\n",
       "      <th>0</th>\n",
       "      <td>2015</td>\n",
       "      <td>Kia</td>\n",
       "      <td>automatic</td>\n",
       "      <td>ca</td>\n",
       "      <td>5.0000</td>\n",
       "      <td>16639.0000</td>\n",
       "      <td>white</td>\n",
       "      <td>black</td>\n",
       "      <td>20500.0000</td>\n",
       "      <td>21500.0000</td>\n",
       "      <td>1</td>\n",
       "    </tr>\n",
       "    <tr>\n",
       "      <th>1</th>\n",
       "      <td>2015</td>\n",
       "      <td>Kia</td>\n",
       "      <td>automatic</td>\n",
       "      <td>ca</td>\n",
       "      <td>5.0000</td>\n",
       "      <td>9393.0000</td>\n",
       "      <td>white</td>\n",
       "      <td>beige</td>\n",
       "      <td>20800.0000</td>\n",
       "      <td>21500.0000</td>\n",
       "      <td>2</td>\n",
       "    </tr>\n",
       "    <tr>\n",
       "      <th>2</th>\n",
       "      <td>2014</td>\n",
       "      <td>BMW</td>\n",
       "      <td>automatic</td>\n",
       "      <td>ca</td>\n",
       "      <td>4.5000</td>\n",
       "      <td>1331.0000</td>\n",
       "      <td>gray</td>\n",
       "      <td>black</td>\n",
       "      <td>31900.0000</td>\n",
       "      <td>30000.0000</td>\n",
       "      <td>3</td>\n",
       "    </tr>\n",
       "    <tr>\n",
       "      <th>3</th>\n",
       "      <td>2015</td>\n",
       "      <td>Volvo</td>\n",
       "      <td>automatic</td>\n",
       "      <td>ca</td>\n",
       "      <td>4.1000</td>\n",
       "      <td>14282.0000</td>\n",
       "      <td>white</td>\n",
       "      <td>black</td>\n",
       "      <td>27500.0000</td>\n",
       "      <td>27750.0000</td>\n",
       "      <td>4</td>\n",
       "    </tr>\n",
       "    <tr>\n",
       "      <th>4</th>\n",
       "      <td>2014</td>\n",
       "      <td>BMW</td>\n",
       "      <td>automatic</td>\n",
       "      <td>ca</td>\n",
       "      <td>4.3000</td>\n",
       "      <td>2641.0000</td>\n",
       "      <td>gray</td>\n",
       "      <td>black</td>\n",
       "      <td>66000.0000</td>\n",
       "      <td>67000.0000</td>\n",
       "      <td>5</td>\n",
       "    </tr>\n",
       "  </tbody>\n",
       "</table>\n",
       "</div>"
      ],
      "text/plain": [
       "   year   make transmission state  condition   odometer  color interior  \\\n",
       "0  2015    Kia    automatic    ca     5.0000 16639.0000  white    black   \n",
       "1  2015    Kia    automatic    ca     5.0000  9393.0000  white    beige   \n",
       "2  2014    BMW    automatic    ca     4.5000  1331.0000   gray    black   \n",
       "3  2015  Volvo    automatic    ca     4.1000 14282.0000  white    black   \n",
       "4  2014    BMW    automatic    ca     4.3000  2641.0000   gray    black   \n",
       "\n",
       "         mmr  sellingprice  id  \n",
       "0 20500.0000    21500.0000   1  \n",
       "1 20800.0000    21500.0000   2  \n",
       "2 31900.0000    30000.0000   3  \n",
       "3 27500.0000    27750.0000   4  \n",
       "4 66000.0000    67000.0000   5  "
      ]
     },
     "execution_count": 10,
     "metadata": {},
     "output_type": "execute_result"
    }
   ],
   "source": [
    "df.drop(['Unnamed: 0', 'model', 'trim', 'body', 'vin', 'seller', 'saledate'], axis=1, inplace=True)\n",
    "df.head()"
   ]
  },
  {
   "cell_type": "markdown",
   "metadata": {},
   "source": [
    "Split data in training, validation and testing"
   ]
  },
  {
   "cell_type": "code",
   "execution_count": 11,
   "metadata": {},
   "outputs": [
    {
     "name": "stdout",
     "output_type": "stream",
     "text": [
      "Generating the train/validation/test splits...\n",
      "calculating the statistics...\n",
      "split completed\n"
     ]
    },
    {
     "data": {
      "text/plain": [
       "(106737, 12)"
      ]
     },
     "execution_count": 11,
     "metadata": {},
     "output_type": "execute_result"
    },
    {
     "data": {
      "text/plain": [
       "{'train_set': {'N_manual': 10483,\n",
       "  'percentage_total_manual': 63.81566932489194,\n",
       "  'N_automatic': 331076,\n",
       "  'percentage_total_automatic': 64.00584620083943},\n",
       " 'test_set': {'N_manual': 3350,\n",
       "  'percentage_total_manual': 20.39325500700067,\n",
       "  'N_automatic': 103387,\n",
       "  'percentage_total_automatic': 19.987472426772662},\n",
       " 'validation_set': {'N_manual': 2594,\n",
       "  'percentage_total_manual': 15.791075668107386,\n",
       "  'N_automatic': 82796,\n",
       "  'percentage_total_automatic': 16.006681372387916}}"
      ]
     },
     "execution_count": 11,
     "metadata": {},
     "output_type": "execute_result"
    }
   ],
   "source": [
    "df['transmission_bin'] = pd.factorize(df['transmission'])[0]\n",
    "\n",
    "class TrainTestSplitter(object):\n",
    "    '''Class to perform the split of the data into train, test, and validation.\n",
    "    '''\n",
    "    def __init__(self, train_frac=0.8, validation_frac=0.2, seed=1234):\n",
    "        self.train_frac = train_frac\n",
    "        self.validation_frac = validation_frac\n",
    "        self.seed = seed\n",
    "    \n",
    "    def calculate_statistics(self):\n",
    "        statistics = {}\n",
    "        for i in ['train_set', 'test_set', 'validation_set']:\n",
    "            split_stats = {}\n",
    "            default_count = (getattr(self, i).groupby('transmission_bin').size().reset_index())\n",
    "            split_stats['N_manual'] = (default_count.loc[lambda x: x.transmission_bin ==1, 0].iloc[0])\n",
    "            split_stats['percentage_total_manual'] = split_stats['N_manual']/self.total_n_defaults * 100\n",
    "            split_stats['N_automatic'] = default_count.loc[lambda x: x.transmission_bin == 0, 0].iloc[0]\n",
    "            split_stats['percentage_total_automatic'] = split_stats['N_automatic']/self.total_n_not_defaults * 100\n",
    "            statistics[i] = split_stats\n",
    "        self.split_statistics = statistics\n",
    "\n",
    "    def split_train_test(self, df):\n",
    "        print(\"Generating the train/validation/test splits...\")\n",
    "        self.total_n_defaults = df.loc[lambda x: x.transmission_bin == 1].shape[0]\n",
    "        self.total_n_not_defaults = df.loc[lambda x: x.transmission_bin == 0].shape[0]\n",
    "        self.train_set = df.sample(frac=self.train_frac, random_state=self.seed)\n",
    "        self.test_set = df.loc[lambda x: ~x.id.isin(self.train_set.id)].reset_index(drop=True)\n",
    "        self.validation_set = self.train_set.sample(frac=self.validation_frac).reset_index(drop=True)\n",
    "        self.train_set = self.train_set.loc[lambda x: ~x.id.isin(self.validation_set.id)].reset_index(drop=True)\n",
    "        print(\"calculating the statistics...\")\n",
    "        self.calculate_statistics()\n",
    "        print(\"split completed\")\n",
    "\n",
    "# create a fitting_splits object that will hold the train, validation, and test data\n",
    "fitting_splits = TrainTestSplitter()\n",
    "fitting_splits.split_train_test(df)\n",
    "\n",
    "fitting_splits.test_set.shape\n",
    "fitting_splits.split_statistics"
   ]
  },
  {
   "cell_type": "code",
   "execution_count": 12,
   "metadata": {},
   "outputs": [],
   "source": [
    "def dummify(df, one_hot_encoder):\n",
    "    vars_to_encode = ['transmission', 'color', 'interior']\n",
    "    df_to_encode = df[vars_to_encode]\n",
    "    if not one_hot_encoder:\n",
    "        one_hot_encoder = OneHotEncoder()\n",
    "        df_encoded = one_hot_encoder.fit_transform(df_to_encode).toarray()\n",
    "    else:\n",
    "        df_encoded = one_hot_encoder.transform(df_to_encode).toarray()\n",
    "    df_encoded = pd.DataFrame(df_encoded, columns=one_hot_encoder.get_feature_names_out())\n",
    "    # add the encoded columns and drop the original columns\n",
    "    df = pd.concat([df, df_encoded], axis=1)\n",
    "    df = df.drop(vars_to_encode, axis=1)\n",
    "    return df, one_hot_encoder\n",
    "\n",
    "def scale(df, standard_scaler, cols_to_scale):\n",
    "    if not standard_scaler:\n",
    "        standard_scaler = StandardScaler()\n",
    "        df[cols_to_scale] = standard_scaler.fit_transform(df[cols_to_scale])\n",
    "    else:\n",
    "        df[cols_to_scale] = standard_scaler.transform(df[cols_to_scale])\n",
    "    return df, standard_scaler\n",
    "\n",
    "def prepare_data(df, one_hot_encoder=None, standard_scaler=None, cols_to_scale=None):\n",
    "    df = df.reset_index(drop=True)\n",
    "    df, one_hot_encoder = dummify(df, one_hot_encoder)\n",
    "    \n",
    "    # Identify columns to scale (numerical features)\n",
    "    if cols_to_scale is None:\n",
    "        cols_to_scale = df.select_dtypes(include=[np.number]).columns.tolist()\n",
    "    \n",
    "    # Identify columns to exclude from scaling (one-hot encoded columns)\n",
    "    one_hot_columns = one_hot_encoder.get_feature_names_out() if one_hot_encoder else []\n",
    "    cols_to_exclude = df.columns[df.columns.isin(one_hot_columns)]\n",
    "    \n",
    "    # Remove one-hot encoded columns from the list of columns to scale\n",
    "    cols_to_scale = list(set(cols_to_scale) - set(cols_to_exclude))\n",
    "    \n",
    "    df, standard_scaler = scale(df, standard_scaler, cols_to_scale)\n",
    "    return df, one_hot_encoder, standard_scaler\n"
   ]
  },
  {
   "cell_type": "code",
   "execution_count": 13,
   "metadata": {},
   "outputs": [],
   "source": [
    "# now we prepare all the data we use below\n",
    "X_train, one_hot_encoder, standard_scaler = prepare_data(fitting_splits.train_set)\n",
    "X_train = X_train.drop([\"id\", 'transmission_bin', 'sellingprice', 'make', 'state'],axis=1)  \n",
    "y_train = fitting_splits.train_set[\"sellingprice\"]\n",
    "\n",
    "X_validation = prepare_data(fitting_splits.validation_set, one_hot_encoder, standard_scaler)[0]\n",
    "X_validation = X_validation.drop([\"id\", 'transmission_bin', 'sellingprice', 'make', 'state'],axis=1)\n",
    "y_validation = fitting_splits.validation_set[\"sellingprice\"]\n",
    "\n",
    "X_test = prepare_data(fitting_splits.test_set, one_hot_encoder, standard_scaler)[0].drop([\"id\", 'transmission_bin', 'sellingprice', 'make', 'state'],axis=1)\n",
    "y_test = fitting_splits.test_set[\"sellingprice\"]\n",
    "\n",
    "X_train_validation = pd.concat([X_train, X_validation])\n",
    "y_train_validation = pd.concat([y_train, y_validation])"
   ]
  },
  {
   "cell_type": "code",
   "execution_count": 14,
   "metadata": {},
   "outputs": [
    {
     "name": "stderr",
     "output_type": "stream",
     "text": [
      "c:\\Users\\Daan van der Veldt\\anaconda3\\lib\\site-packages\\sklearn\\model_selection\\_split.py:700: UserWarning: The least populated class in y has only 1 members, which is less than n_splits=5.\n"
     ]
    }
   ],
   "source": [
    "# hyperparameter tuning with crossvalidation of a random forest model\n",
    "param_grid = {\n",
    "    \"n_estimators\": [x for x in range(10, 200, 10)],\n",
    "    \"max_depth\": [x for x in range(5, 21, 5)]\n",
    "}\n",
    "sklearn_grid_search_rf = GridSearchCV(RandomForestClassifier(), param_grid=param_grid, n_jobs=2, scoring='f1')\n",
    "_ = sklearn_grid_search_rf.fit(X_train_validation, y_train_validation)"
   ]
  }
 ],
 "metadata": {
  "kernelspec": {
   "display_name": "base",
   "language": "python",
   "name": "python3"
  },
  "language_info": {
   "codemirror_mode": {
    "name": "ipython",
    "version": 3
   },
   "file_extension": ".py",
   "mimetype": "text/x-python",
   "name": "python",
   "nbconvert_exporter": "python",
   "pygments_lexer": "ipython3",
   "version": "3.10.9"
  }
 },
 "nbformat": 4,
 "nbformat_minor": 2
}
